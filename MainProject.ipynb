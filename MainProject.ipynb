{
 "cells": [
  {
   "cell_type": "code",
   "execution_count": null,
   "id": "b42d4016",
   "metadata": {},
   "outputs": [],
   "source": [
    "import pandas as pd\n",
    "from pathlib import Path\n",
    "import numpy as np\n",
    "import matplotlib.pyplot as plt"
   ]
  },
  {
   "cell_type": "code",
   "execution_count": null,
   "id": "55009a1e",
   "metadata": {},
   "outputs": [],
   "source": [
    "#Home Values DF set-up (4 files)\n"
   ]
  },
  {
   "cell_type": "code",
   "execution_count": null,
   "id": "ba0a09b2",
   "metadata": {},
   "outputs": [],
   "source": [
    "#Vital Statistics DF set-up (4 files)\n"
   ]
  },
  {
   "cell_type": "code",
   "execution_count": null,
   "id": "6f9a5d64",
   "metadata": {},
   "outputs": [],
   "source": [
    "#Median Rent Over Time DF set-up (1 file)\n"
   ]
  },
  {
   "cell_type": "code",
   "execution_count": null,
   "id": "2fc74735",
   "metadata": {},
   "outputs": [],
   "source": [
    "#Population by Race DF set-up (1 file)\n"
   ]
  },
  {
   "cell_type": "code",
   "execution_count": null,
   "id": "d5e7e42c",
   "metadata": {},
   "outputs": [],
   "source": []
  }
 ],
 "metadata": {
  "kernelspec": {
   "display_name": "Python 3 (ipykernel)",
   "language": "python",
   "name": "python3"
  },
  "language_info": {
   "codemirror_mode": {
    "name": "ipython",
    "version": 3
   },
   "file_extension": ".py",
   "mimetype": "text/x-python",
   "name": "python",
   "nbconvert_exporter": "python",
   "pygments_lexer": "ipython3",
   "version": "3.11.5"
  }
 },
 "nbformat": 4,
 "nbformat_minor": 5
}
